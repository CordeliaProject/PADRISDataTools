{
 "cells": [
  {
   "cell_type": "code",
   "execution_count": null,
   "metadata": {},
   "outputs": [
    {
     "name": "stderr",
     "output_type": "stream",
     "text": [
      "C:\\Users\\mhuertas\\AppData\\Local\\Temp\\ipykernel_17512\\3999169792.py:3: DtypeWarning: Columns (1,7,8,9,11,13,14) have mixed types. Specify dtype option on import or set low_memory=False.\n",
      "  lab_clean = pd.read_csv(r\"U:\\Estudis\\B52_CORDELIA\\Dades\\PADRIS\\testing.csv\", sep = \"|\")\n"
     ]
    }
   ],
   "source": [
    "import pandas as pd\n",
    "import numpy as np\n",
    "\n",
    "lab_clean = pd.read_csv(r\"U:\\Estudis\\B52_CORDELIA\\Dades\\PADRIS\\testing.csv\", sep = \"|\")"
   ]
  },
  {
   "cell_type": "code",
   "execution_count": 75,
   "metadata": {},
   "outputs": [
    {
     "data": {
      "text/html": [
       "<div>\n",
       "<style scoped>\n",
       "    .dataframe tbody tr th:only-of-type {\n",
       "        vertical-align: middle;\n",
       "    }\n",
       "\n",
       "    .dataframe tbody tr th {\n",
       "        vertical-align: top;\n",
       "    }\n",
       "\n",
       "    .dataframe thead th {\n",
       "        text-align: right;\n",
       "    }\n",
       "</style>\n",
       "<table border=\"1\" class=\"dataframe\">\n",
       "  <thead>\n",
       "    <tr style=\"text-align: right;\">\n",
       "      <th></th>\n",
       "      <th>codi_p</th>\n",
       "      <th>peticio_id</th>\n",
       "      <th>any</th>\n",
       "      <th>data</th>\n",
       "      <th>codi_prova</th>\n",
       "      <th>prova</th>\n",
       "      <th>resultat</th>\n",
       "      <th>unitat_mesura</th>\n",
       "      <th>ref_min</th>\n",
       "      <th>ref_max</th>\n",
       "      <th>clean_result</th>\n",
       "      <th>clean_unit</th>\n",
       "      <th>comentari</th>\n",
       "      <th>comentari_unitat</th>\n",
       "      <th>num_type</th>\n",
       "    </tr>\n",
       "  </thead>\n",
       "  <tbody>\n",
       "    <tr>\n",
       "      <th>5293037</th>\n",
       "      <td>3530</td>\n",
       "      <td>42351063</td>\n",
       "      <td>2007</td>\n",
       "      <td>2007-04-23</td>\n",
       "      <td>Q45885</td>\n",
       "      <td>PROTEÏNA C REACTIVA (PCR) (SÈRUM); C.MASSA</td>\n",
       "      <td>1.2</td>\n",
       "      <td>mg/dL</td>\n",
       "      <td>0.1</td>\n",
       "      <td>0.5</td>\n",
       "      <td>1.2</td>\n",
       "      <td>mg/dl</td>\n",
       "      <td>NaN</td>\n",
       "      <td>done</td>\n",
       "      <td>n1</td>\n",
       "    </tr>\n",
       "  </tbody>\n",
       "</table>\n",
       "</div>"
      ],
      "text/plain": [
       "         codi_p peticio_id   any        data codi_prova  \\\n",
       "5293037    3530   42351063  2007  2007-04-23     Q45885   \n",
       "\n",
       "                                              prova resultat unitat_mesura  \\\n",
       "5293037  PROTEÏNA C REACTIVA (PCR) (SÈRUM); C.MASSA      1.2         mg/dL   \n",
       "\n",
       "        ref_min ref_max clean_result clean_unit comentari comentari_unitat  \\\n",
       "5293037     0.1     0.5          1.2      mg/dl       NaN             done   \n",
       "\n",
       "        num_type  \n",
       "5293037       n1  "
      ]
     },
     "execution_count": 75,
     "metadata": {},
     "output_type": "execute_result"
    }
   ],
   "source": [
    "# -----------------------------------------\n",
    "# ----- Step 1: Results with reportable limits -> flag implausible results\n",
    "\n",
    "lab_clean.sample()"
   ]
  },
  {
   "cell_type": "code",
   "execution_count": 23,
   "metadata": {},
   "outputs": [
    {
     "data": {
      "text/plain": [
       "codi_p               int64\n",
       "peticio_id          object\n",
       "any                  int64\n",
       "data                object\n",
       "codi_prova          object\n",
       "prova               object\n",
       "resultat            object\n",
       "unitat_mesura       object\n",
       "ref_min             object\n",
       "ref_max             object\n",
       "clean_result        object\n",
       "clean_unit          object\n",
       "comentari           object\n",
       "comentari_unitat    object\n",
       "num_type            object\n",
       "dtype: object"
      ]
     },
     "execution_count": 23,
     "metadata": {},
     "output_type": "execute_result"
    }
   ],
   "source": [
    "lab_clean.dtypes"
   ]
  },
  {
   "cell_type": "code",
   "execution_count": 80,
   "metadata": {},
   "outputs": [
    {
     "name": "stderr",
     "output_type": "stream",
     "text": [
      "C:\\Users\\mhuertas\\AppData\\Local\\Temp\\ipykernel_17512\\1031864702.py:4: SettingWithCopyWarning: \n",
      "A value is trying to be set on a copy of a slice from a DataFrame.\n",
      "Try using .loc[row_indexer,col_indexer] = value instead\n",
      "\n",
      "See the caveats in the documentation: https://pandas.pydata.org/pandas-docs/stable/user_guide/indexing.html#returning-a-view-versus-a-copy\n",
      "  test_percentiles['clean_result'] = test_percentiles['clean_result'].astype(float)\n"
     ]
    }
   ],
   "source": [
    "# Testing dixon test\n",
    "test_percentiles = lab_clean[(lab_clean['codi_prova'] == \"Q45885\") & (lab_clean['num_type'] == \"n1\") & (lab_clean['clean_unit'] == \"mg/dl\")]\n",
    "\n",
    "test_percentiles['clean_result'] = test_percentiles['clean_result'].astype(float)"
   ]
  },
  {
   "cell_type": "code",
   "execution_count": 81,
   "metadata": {},
   "outputs": [
    {
     "data": {
      "text/html": [
       "<div>\n",
       "<style scoped>\n",
       "    .dataframe tbody tr th:only-of-type {\n",
       "        vertical-align: middle;\n",
       "    }\n",
       "\n",
       "    .dataframe tbody tr th {\n",
       "        vertical-align: top;\n",
       "    }\n",
       "\n",
       "    .dataframe thead th {\n",
       "        text-align: right;\n",
       "    }\n",
       "</style>\n",
       "<table border=\"1\" class=\"dataframe\">\n",
       "  <thead>\n",
       "    <tr style=\"text-align: right;\">\n",
       "      <th></th>\n",
       "      <th>codi_p</th>\n",
       "      <th>peticio_id</th>\n",
       "      <th>any</th>\n",
       "      <th>data</th>\n",
       "      <th>codi_prova</th>\n",
       "      <th>prova</th>\n",
       "      <th>resultat</th>\n",
       "      <th>unitat_mesura</th>\n",
       "      <th>ref_min</th>\n",
       "      <th>ref_max</th>\n",
       "      <th>clean_result</th>\n",
       "      <th>clean_unit</th>\n",
       "      <th>comentari</th>\n",
       "      <th>comentari_unitat</th>\n",
       "      <th>num_type</th>\n",
       "    </tr>\n",
       "  </thead>\n",
       "  <tbody>\n",
       "    <tr>\n",
       "      <th>1200354</th>\n",
       "      <td>14260</td>\n",
       "      <td>64163412684</td>\n",
       "      <td>2019</td>\n",
       "      <td>2019-12-27</td>\n",
       "      <td>Q45885</td>\n",
       "      <td>PROTEÏNA C REACTIVA (PCR) (SÈRUM); C.MASSA</td>\n",
       "      <td>0,69</td>\n",
       "      <td>mg/dL</td>\n",
       "      <td>NaN</td>\n",
       "      <td>NaN</td>\n",
       "      <td>0.69</td>\n",
       "      <td>mg/dl</td>\n",
       "      <td>NaN</td>\n",
       "      <td>done</td>\n",
       "      <td>n1</td>\n",
       "    </tr>\n",
       "    <tr>\n",
       "      <th>1200463</th>\n",
       "      <td>1459</td>\n",
       "      <td>64163589147</td>\n",
       "      <td>2018</td>\n",
       "      <td>2018-04-20</td>\n",
       "      <td>Q45885</td>\n",
       "      <td>PROTEÏNA C REACTIVA (PCR) (SÈRUM); C.MASSA</td>\n",
       "      <td>19,9</td>\n",
       "      <td>mg/dL</td>\n",
       "      <td>NaN</td>\n",
       "      <td>NaN</td>\n",
       "      <td>19.90</td>\n",
       "      <td>mg/dl</td>\n",
       "      <td>NaN</td>\n",
       "      <td>done</td>\n",
       "      <td>n1</td>\n",
       "    </tr>\n",
       "    <tr>\n",
       "      <th>1201518</th>\n",
       "      <td>11131</td>\n",
       "      <td>64163880762</td>\n",
       "      <td>2022</td>\n",
       "      <td>2022-06-17</td>\n",
       "      <td>Q45885</td>\n",
       "      <td>PROTEÏNA C REACTIVA (PCR) (SÈRUM); C.MASSA</td>\n",
       "      <td>0,57</td>\n",
       "      <td>mg/dL</td>\n",
       "      <td>NaN</td>\n",
       "      <td>NaN</td>\n",
       "      <td>0.57</td>\n",
       "      <td>mg/dl</td>\n",
       "      <td>NaN</td>\n",
       "      <td>done</td>\n",
       "      <td>n1</td>\n",
       "    </tr>\n",
       "    <tr>\n",
       "      <th>1201593</th>\n",
       "      <td>4754</td>\n",
       "      <td>64163050346</td>\n",
       "      <td>2017</td>\n",
       "      <td>2017-09-25</td>\n",
       "      <td>Q45885</td>\n",
       "      <td>PROTEÏNA C REACTIVA (PCR) (SÈRUM); C.MASSA</td>\n",
       "      <td>1,2</td>\n",
       "      <td>mg/dL</td>\n",
       "      <td>NaN</td>\n",
       "      <td>NaN</td>\n",
       "      <td>1.20</td>\n",
       "      <td>mg/dl</td>\n",
       "      <td>NaN</td>\n",
       "      <td>done</td>\n",
       "      <td>n1</td>\n",
       "    </tr>\n",
       "    <tr>\n",
       "      <th>1201666</th>\n",
       "      <td>3824</td>\n",
       "      <td>66263747181</td>\n",
       "      <td>2021</td>\n",
       "      <td>2021-10-06</td>\n",
       "      <td>Q45885</td>\n",
       "      <td>PROTEÏNA C REACTIVA (PCR) (SÈRUM); C.MASSA</td>\n",
       "      <td>4,9</td>\n",
       "      <td>mg/dL</td>\n",
       "      <td>NaN</td>\n",
       "      <td>NaN</td>\n",
       "      <td>4.90</td>\n",
       "      <td>mg/dl</td>\n",
       "      <td>NaN</td>\n",
       "      <td>done</td>\n",
       "      <td>n1</td>\n",
       "    </tr>\n",
       "    <tr>\n",
       "      <th>...</th>\n",
       "      <td>...</td>\n",
       "      <td>...</td>\n",
       "      <td>...</td>\n",
       "      <td>...</td>\n",
       "      <td>...</td>\n",
       "      <td>...</td>\n",
       "      <td>...</td>\n",
       "      <td>...</td>\n",
       "      <td>...</td>\n",
       "      <td>...</td>\n",
       "      <td>...</td>\n",
       "      <td>...</td>\n",
       "      <td>...</td>\n",
       "      <td>...</td>\n",
       "      <td>...</td>\n",
       "    </tr>\n",
       "    <tr>\n",
       "      <th>6626321</th>\n",
       "      <td>11884</td>\n",
       "      <td>92208074750</td>\n",
       "      <td>2017</td>\n",
       "      <td>2017-09-22</td>\n",
       "      <td>Q45885</td>\n",
       "      <td>PROTEÏNA C REACTIVA (PCR) (SÈRUM); C.MASSA</td>\n",
       "      <td>,36</td>\n",
       "      <td>mg/dL</td>\n",
       "      <td>0</td>\n",
       "      <td>0,5</td>\n",
       "      <td>0.36</td>\n",
       "      <td>mg/dl</td>\n",
       "      <td>NaN</td>\n",
       "      <td>done</td>\n",
       "      <td>n1</td>\n",
       "    </tr>\n",
       "    <tr>\n",
       "      <th>6626375</th>\n",
       "      <td>11251</td>\n",
       "      <td>110305547032</td>\n",
       "      <td>2017</td>\n",
       "      <td>2017-11-03</td>\n",
       "      <td>Q45885</td>\n",
       "      <td>PROTEÏNA C REACTIVA (PCR) (SÈRUM); C.MASSA</td>\n",
       "      <td>,4</td>\n",
       "      <td>mg/dL</td>\n",
       "      <td>0</td>\n",
       "      <td>0,5</td>\n",
       "      <td>0.40</td>\n",
       "      <td>mg/dl</td>\n",
       "      <td>NaN</td>\n",
       "      <td>done</td>\n",
       "      <td>n1</td>\n",
       "    </tr>\n",
       "    <tr>\n",
       "      <th>6626405</th>\n",
       "      <td>11937</td>\n",
       "      <td>11605592300</td>\n",
       "      <td>2017</td>\n",
       "      <td>2017-01-16</td>\n",
       "      <td>Q45885</td>\n",
       "      <td>PROTEÏNA C REACTIVA (PCR) (SÈRUM); C.MASSA</td>\n",
       "      <td>,19</td>\n",
       "      <td>mg/dL</td>\n",
       "      <td>0</td>\n",
       "      <td>0,5</td>\n",
       "      <td>0.19</td>\n",
       "      <td>mg/dl</td>\n",
       "      <td>NaN</td>\n",
       "      <td>done</td>\n",
       "      <td>n1</td>\n",
       "    </tr>\n",
       "    <tr>\n",
       "      <th>6626474</th>\n",
       "      <td>2272</td>\n",
       "      <td>72708059087</td>\n",
       "      <td>2017</td>\n",
       "      <td>2017-07-27</td>\n",
       "      <td>Q45885</td>\n",
       "      <td>PROTEÏNA C REACTIVA (PCR) (SÈRUM); C.MASSA</td>\n",
       "      <td>7,97</td>\n",
       "      <td>mg/dL</td>\n",
       "      <td>0</td>\n",
       "      <td>0,5</td>\n",
       "      <td>7.97</td>\n",
       "      <td>mg/dl</td>\n",
       "      <td>NaN</td>\n",
       "      <td>done</td>\n",
       "      <td>n1</td>\n",
       "    </tr>\n",
       "    <tr>\n",
       "      <th>6626518</th>\n",
       "      <td>10997</td>\n",
       "      <td>21305700671</td>\n",
       "      <td>2017</td>\n",
       "      <td>2017-02-13</td>\n",
       "      <td>Q45885</td>\n",
       "      <td>PROTEÏNA C REACTIVA (PCR) (SÈRUM); C.MASSA</td>\n",
       "      <td>,51</td>\n",
       "      <td>mg/dL</td>\n",
       "      <td>0</td>\n",
       "      <td>0,5</td>\n",
       "      <td>0.51</td>\n",
       "      <td>mg/dl</td>\n",
       "      <td>NaN</td>\n",
       "      <td>done</td>\n",
       "      <td>n1</td>\n",
       "    </tr>\n",
       "  </tbody>\n",
       "</table>\n",
       "<p>42659 rows × 15 columns</p>\n",
       "</div>"
      ],
      "text/plain": [
       "         codi_p    peticio_id   any        data codi_prova  \\\n",
       "1200354   14260   64163412684  2019  2019-12-27     Q45885   \n",
       "1200463    1459   64163589147  2018  2018-04-20     Q45885   \n",
       "1201518   11131   64163880762  2022  2022-06-17     Q45885   \n",
       "1201593    4754   64163050346  2017  2017-09-25     Q45885   \n",
       "1201666    3824   66263747181  2021  2021-10-06     Q45885   \n",
       "...         ...           ...   ...         ...        ...   \n",
       "6626321   11884   92208074750  2017  2017-09-22     Q45885   \n",
       "6626375   11251  110305547032  2017  2017-11-03     Q45885   \n",
       "6626405   11937   11605592300  2017  2017-01-16     Q45885   \n",
       "6626474    2272   72708059087  2017  2017-07-27     Q45885   \n",
       "6626518   10997   21305700671  2017  2017-02-13     Q45885   \n",
       "\n",
       "                                              prova resultat unitat_mesura  \\\n",
       "1200354  PROTEÏNA C REACTIVA (PCR) (SÈRUM); C.MASSA     0,69         mg/dL   \n",
       "1200463  PROTEÏNA C REACTIVA (PCR) (SÈRUM); C.MASSA     19,9         mg/dL   \n",
       "1201518  PROTEÏNA C REACTIVA (PCR) (SÈRUM); C.MASSA     0,57         mg/dL   \n",
       "1201593  PROTEÏNA C REACTIVA (PCR) (SÈRUM); C.MASSA      1,2         mg/dL   \n",
       "1201666  PROTEÏNA C REACTIVA (PCR) (SÈRUM); C.MASSA      4,9         mg/dL   \n",
       "...                                             ...      ...           ...   \n",
       "6626321  PROTEÏNA C REACTIVA (PCR) (SÈRUM); C.MASSA      ,36         mg/dL   \n",
       "6626375  PROTEÏNA C REACTIVA (PCR) (SÈRUM); C.MASSA       ,4         mg/dL   \n",
       "6626405  PROTEÏNA C REACTIVA (PCR) (SÈRUM); C.MASSA      ,19         mg/dL   \n",
       "6626474  PROTEÏNA C REACTIVA (PCR) (SÈRUM); C.MASSA     7,97         mg/dL   \n",
       "6626518  PROTEÏNA C REACTIVA (PCR) (SÈRUM); C.MASSA      ,51         mg/dL   \n",
       "\n",
       "        ref_min ref_max  clean_result clean_unit comentari comentari_unitat  \\\n",
       "1200354     NaN     NaN          0.69      mg/dl       NaN             done   \n",
       "1200463     NaN     NaN         19.90      mg/dl       NaN             done   \n",
       "1201518     NaN     NaN          0.57      mg/dl       NaN             done   \n",
       "1201593     NaN     NaN          1.20      mg/dl       NaN             done   \n",
       "1201666     NaN     NaN          4.90      mg/dl       NaN             done   \n",
       "...         ...     ...           ...        ...       ...              ...   \n",
       "6626321       0     0,5          0.36      mg/dl       NaN             done   \n",
       "6626375       0     0,5          0.40      mg/dl       NaN             done   \n",
       "6626405       0     0,5          0.19      mg/dl       NaN             done   \n",
       "6626474       0     0,5          7.97      mg/dl       NaN             done   \n",
       "6626518       0     0,5          0.51      mg/dl       NaN             done   \n",
       "\n",
       "        num_type  \n",
       "1200354       n1  \n",
       "1200463       n1  \n",
       "1201518       n1  \n",
       "1201593       n1  \n",
       "1201666       n1  \n",
       "...          ...  \n",
       "6626321       n1  \n",
       "6626375       n1  \n",
       "6626405       n1  \n",
       "6626474       n1  \n",
       "6626518       n1  \n",
       "\n",
       "[42659 rows x 15 columns]"
      ]
     },
     "execution_count": 81,
     "metadata": {},
     "output_type": "execute_result"
    }
   ],
   "source": [
    "test_percentiles"
   ]
  },
  {
   "cell_type": "code",
   "execution_count": 82,
   "metadata": {},
   "outputs": [],
   "source": [
    "data = test_percentiles[(test_percentiles['clean_result'] >= np.percentile(test_percentiles['clean_result'], 0.01)) & (test_percentiles['clean_result'] <= np.percentile(test_percentiles['clean_result'], 99.9))]['clean_result'].values"
   ]
  },
  {
   "cell_type": "code",
   "execution_count": 85,
   "metadata": {},
   "outputs": [
    {
     "data": {
      "text/plain": [
       "34.54699999999997"
      ]
     },
     "execution_count": 85,
     "metadata": {},
     "output_type": "execute_result"
    }
   ],
   "source": [
    "np.percentile(data, 99)"
   ]
  },
  {
   "cell_type": "code",
   "execution_count": 87,
   "metadata": {},
   "outputs": [
    {
     "data": {
      "image/png": "[encoded data removed]",
      "text/plain": [
       "<Figure size 640x480 with 1 Axes>"
      ]
     },
     "metadata": {},
     "output_type": "display_data"
    }
   ],
   "source": [
    "import matplotlib.pyplot as plt\n",
    "\n",
    "plt.hist(test_percentiles['clean_result'].values, bins = 100)\n",
    "plt.show()"
   ]
  },
  {
   "cell_type": "code",
   "execution_count": 89,
   "metadata": {},
   "outputs": [
    {
     "data": {
      "text/plain": [
       "NormaltestResult(statistic=25353.51011322522, pvalue=0.0)"
      ]
     },
     "execution_count": 89,
     "metadata": {},
     "output_type": "execute_result"
    }
   ],
   "source": [
    "from scipy import stats\n",
    "stats.normaltest(data)\n"
   ]
  },
  {
   "cell_type": "code",
   "execution_count": 92,
   "metadata": {},
   "outputs": [
    {
     "data": {
      "text/plain": [
       "codi_prova    2639\n",
       "clean_unit     354\n",
       "dtype: int64"
      ]
     },
     "execution_count": 92,
     "metadata": {},
     "output_type": "execute_result"
    }
   ],
   "source": [
    "lab_clean[['codi_prova', 'clean_unit']].drop_duplicates().nunique()\n"
   ]
  }
 ],
 "metadata": {
  "kernelspec": {
   "display_name": "Python 3",
   "language": "python",
   "name": "python3"
  },
  "language_info": {
   "codemirror_mode": {
    "name": "ipython",
    "version": 3
   },
   "file_extension": ".py",
   "mimetype": "text/x-python",
   "name": "python",
   "nbconvert_exporter": "python",
   "pygments_lexer": "ipython3",
   "version": "3.11.9"
  }
 },
 "nbformat": 4,
 "nbformat_minor": 2
}
