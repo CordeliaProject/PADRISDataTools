{
 "cells": [
  {
   "cell_type": "code",
   "execution_count": 9,
   "metadata": {},
   "outputs": [
    {
     "name": "stderr",
     "output_type": "stream",
     "text": [
      "C:\\Users\\mhuertas\\AppData\\Local\\Temp\\ipykernel_21692\\3748648737.py:3: DtypeWarning: Columns (3,7,8,9) have mixed types. Specify dtype option on import or set low_memory=False.\n",
      "  lab = pd.read_csv(r\"U:\\Estudis\\B52_CORDELIA\\Dades\\PADRIS\\00_BD_PADRIS_no_duplicats_codi_p\\AP_Laboratoris.csv\", sep = \"|\")\n"
     ]
    }
   ],
   "source": [
    "import pandas as pd\n",
    "\n",
    "lab = pd.read_csv(r\"U:\\Estudis\\B52_CORDELIA\\Dades\\PADRIS\\00_BD_PADRIS_no_duplicats_codi_p\\AP_Laboratoris.csv\", sep = \"|\")"
   ]
  },
  {
   "cell_type": "code",
   "execution_count": 11,
   "metadata": {},
   "outputs": [],
   "source": [
    "# Using a regex pattern to match rows where 'lab_resultat' contains any letter\n",
    "filtered_rows = lab[lab['lab_resultat'].str.contains(r'[a-zA-Z]', na=False)]"
   ]
  },
  {
   "cell_type": "code",
   "execution_count": 19,
   "metadata": {},
   "outputs": [],
   "source": [
    "filtered_rows = filtered_rows[['lab_resultat']].drop_duplicates().sort_values(\"lab_resultat\")\n",
    "\n",
    "filtered_rows[['lab_resultat']].to_csv(\"test.csv\", index = False)"
   ]
  },
  {
   "cell_type": "code",
   "execution_count": null,
   "metadata": {},
   "outputs": [],
   "source": []
  }
 ],
 "metadata": {
  "kernelspec": {
   "display_name": "Python 3",
   "language": "python",
   "name": "python3"
  },
  "language_info": {
   "codemirror_mode": {
    "name": "ipython",
    "version": 3
   },
   "file_extension": ".py",
   "mimetype": "text/x-python",
   "name": "python",
   "nbconvert_exporter": "python",
   "pygments_lexer": "ipython3",
   "version": "3.11.9"
  }
 },
 "nbformat": 4,
 "nbformat_minor": 2
}
