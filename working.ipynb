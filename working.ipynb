{
 "cells": [
  {
   "cell_type": "code",
   "execution_count": null,
   "id": "11bb3a38",
   "metadata": {},
   "outputs": [],
   "source": [
    "import pandas as pd\n",
    "\n",
    "lab_cleaned = pd.read_csv(r)\n",
    "lab_test = pd.read_csv(r\"U:\\Estudis\\B52_CORDELIA\\Dades\\PADRIS\\TESTING\\AP_Laboratoris.csv\", sep = \"|\")"
   ]
  }
 ],
 "metadata": {
  "language_info": {
   "name": "python"
  }
 },
 "nbformat": 4,
 "nbformat_minor": 5
}
